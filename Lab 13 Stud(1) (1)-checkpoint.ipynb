{
 "cells": [
  {
   "cell_type": "markdown",
   "metadata": {},
   "source": [
    "# Lists"
   ]
  },
  {
   "cell_type": "markdown",
   "metadata": {},
   "source": [
    "## Lists\n",
    "- A list is a collection of items, that is stored in a variable.This is the change I made from edit fole. \n",
    "- The items should be related in some way, but there are no restrictions on what can be stored in a list."
   ]
  },
  {
   "cell_type": "markdown",
   "metadata": {},
   "source": [
    "### Syntax\n",
    "list-name = [list of comma seperated values]"
   ]
  },
  {
   "cell_type": "markdown",
   "metadata": {},
   "source": [
    "### Slicing with list\n",
    "\n",
    "index start with 0\n",
    "\n",
    " listname[index_number]\n",
    "\n",
    " listname[start_index:end_index]\n",
    "\n",
    " listname[:end_index]\n",
    "\n",
    " listname[start_index:]\n",
    "\n",
    "\n",
    "negative index: \n",
    " listname[:-index] \n",
    "\n",
    "\n",
    "### list methods\n",
    "- append()\n",
    "- len()\n",
    "- insert(index,value)\n",
    "- sort()\n",
    "- reverse()\n",
    "- pop(), pop(index)\n",
    "- min(), max(), sum()\n",
    "\n",
    "\n",
    "We can change the contents of the lists after its creation\n",
    "\n",
    "listname[index]=newvalue"
   ]
  },
  {
   "cell_type": "markdown",
   "metadata": {},
   "source": [
    "#### Task 1: Run below code and try to make some changes to the code"
   ]
  },
  {
   "cell_type": "code",
   "execution_count": 1,
   "metadata": {},
   "outputs": [
    {
     "name": "stdout",
     "output_type": "stream",
     "text": [
      "['India', 'Australia', 'USA']\n",
      "Value at 0 index:  India\n",
      "New value at index 0:  Japan\n"
     ]
    }
   ],
   "source": [
    "# list creation\n",
    "countries = ['India', 'Australia', 'USA']\n",
    "\n",
    "# print whole list\n",
    "print(countries)\n",
    "\n",
    "# Accessing list elements\n",
    "print(\"Value at 0 index: \",countries[0])\n",
    "\n",
    "# assignning new value to index\n",
    "countries[0]='Japan'\n",
    "\n",
    "print(\"New value at index 0: \",countries[0])"
   ]
  },
  {
   "cell_type": "code",
   "execution_count": 2,
   "metadata": {},
   "outputs": [
    {
     "name": "stdout",
     "output_type": "stream",
     "text": [
      "['India', 'Australia', 'USA']\n",
      "Value at 0 index:  India\n",
      "New value at index 0:  Japan\n",
      "['Japan', 'Australia', 'USA', 'Russia']\n",
      "4\n"
     ]
    }
   ],
   "source": [
    "# list creation\n",
    "countries = ['India', 'Australia', 'USA']\n",
    "\n",
    "# print whole list\n",
    "print(countries)\n",
    "\n",
    "# Accessing list elements\n",
    "print(\"Value at 0 index: \",countries[0])\n",
    "\n",
    "# assignning new value to index\n",
    "countries[0]='Japan'\n",
    "\n",
    "print(\"New value at index 0: \",countries[0])\n",
    "\n",
    "countries.append(\"Russia\")\n",
    "print(countries)\n",
    "print(len(countries))\n"
   ]
  },
  {
   "cell_type": "markdown",
   "metadata": {},
   "source": [
    "### Iterating lists"
   ]
  },
  {
   "cell_type": "markdown",
   "metadata": {},
   "source": [
    "#### Task 2: Run below code and try to make some changes to the code"
   ]
  },
  {
   "cell_type": "code",
   "execution_count": 3,
   "metadata": {
    "scrolled": true
   },
   "outputs": [
    {
     "name": "stdout",
     "output_type": "stream",
     "text": [
      "['My name is', 'I am in', 3, 'Semester']\n",
      "My name is\n",
      "I am in\n",
      "3\n",
      "Semester\n"
     ]
    }
   ],
   "source": [
    "\n",
    "hybridlists=['My name is',\n",
    "             'I am in',\n",
    "             3,\n",
    "             'Semester']\n",
    "\n",
    "print(hybridlists)\n",
    "\n",
    "# we can access the elements of list using loops\n",
    "\n",
    "for item in hybridlists:\n",
    "    print(item)"
   ]
  },
  {
   "cell_type": "code",
   "execution_count": 4,
   "metadata": {},
   "outputs": [
    {
     "name": "stdout",
     "output_type": "stream",
     "text": [
      "['My name is', 'I am in', 3, 'Semester']\n",
      "My name is\n",
      "I am in\n",
      "3\n",
      "Semester\n",
      "['My name is', 'I am in', 3, 'Hello', 'Semester']\n",
      "['Semester', 'Hello', 3, 'I am in', 'My name is']\n"
     ]
    }
   ],
   "source": [
    "hybridlists=['My name is',\n",
    "             'I am in',\n",
    "             3,\n",
    "             'Semester']\n",
    "\n",
    "print(hybridlists)\n",
    "\n",
    "# we can access the elements of list using loops\n",
    "\n",
    "for item in hybridlists:\n",
    "    print(item)\n",
    "\n",
    "hybridlists.insert(3,\"Hello\")\n",
    "\n",
    "print(hybridlists)\n",
    "hybridlists.reverse()\n",
    "print(hybridlists)"
   ]
  },
  {
   "cell_type": "markdown",
   "metadata": {},
   "source": [
    "#### Task 3: Run below code and try to make some changes to the code"
   ]
  },
  {
   "cell_type": "code",
   "execution_count": 5,
   "metadata": {
    "scrolled": false
   },
   "outputs": [
    {
     "name": "stdout",
     "output_type": "stream",
     "text": [
      "Index: 0, Value: India\n",
      "Index: 1, Value: Australia\n",
      "Index: 2, Value: Usa\n",
      "\n",
      " Index of India is:  0\n"
     ]
    }
   ],
   "source": [
    "# print the index number with value\n",
    "\n",
    "countries = ['India', 'Australia', 'USA']\n",
    "\n",
    "for index, country in enumerate(countries):\n",
    "    place = str(index)\n",
    "    print(\"Index: \" + place + \", Value: \" + country.title())\n",
    "    \n",
    "# find index of\n",
    "index = countries.index('India') \n",
    "print(\"\\n Index of India is: \",index)"
   ]
  },
  {
   "cell_type": "code",
   "execution_count": 6,
   "metadata": {},
   "outputs": [
    {
     "name": "stdout",
     "output_type": "stream",
     "text": [
      "Index: 0, Value: India\n",
      "Index: 1, Value: Australia\n",
      "Index: 2, Value: Usa\n",
      "\n",
      " Index of India is:  0\n",
      "['Australia', 'India', 'USA']\n",
      "['Australia', 'India']\n",
      "['India']\n"
     ]
    }
   ],
   "source": [
    "countries = ['India', 'Australia', 'USA']\n",
    "\n",
    "for index, country in enumerate(countries):\n",
    "    place = str(index)\n",
    "    print(\"Index: \" + place + \", Value: \" + country.title())\n",
    "    \n",
    "# find index of\n",
    "index = countries.index('India') \n",
    "print(\"\\n Index of India is: \",index)\n",
    "\n",
    "countries.sort()\n",
    "print(countries)\n",
    "\n",
    "countries.pop()\n",
    "print(countries)\n",
    "countries.pop(0)\n",
    "print(countries)"
   ]
  },
  {
   "cell_type": "markdown",
   "metadata": {},
   "source": [
    "#### Task 4: Run below code and try to make some changes to the code"
   ]
  },
  {
   "cell_type": "code",
   "execution_count": 8,
   "metadata": {},
   "outputs": [
    {
     "name": "stdout",
     "output_type": "stream",
     "text": [
      "['India', 'Australia']\n"
     ]
    }
   ],
   "source": [
    "# Remove the last country from the list by index or by value\n",
    "countries = ['India', 'Australia', 'USA']\n",
    "del countries[2]\n",
    "countries = ['India', 'Australia', 'USA']\n",
    "del countries[2]\n",
    "\n",
    "print(countries)\n",
    "countries.append(\"Japan\")\n",
    "\n",
    "print(countries)\n",
    "print(countries)"
   ]
  },
  {
   "cell_type": "markdown",
   "metadata": {},
   "source": [
    "### List comprehension (with for loop)"
   ]
  },
  {
   "cell_type": "markdown",
   "metadata": {},
   "source": [
    "#### Task 5: Run below code and try to make some changes to the code"
   ]
  },
  {
   "cell_type": "code",
   "execution_count": 14,
   "metadata": {},
   "outputs": [
    {
     "name": "stdout",
     "output_type": "stream",
     "text": [
      "[1, 8, 27, 64, 125]\n"
     ]
    }
   ],
   "source": [
    "# without comprehension\n",
    "\n",
    "cubes = []\n",
    "for x in [1, 2, 3, 4, 5]:\n",
    "    cubes.append(x ** 3) \n",
    "    \n",
    "print(cubes)"
   ]
  },
  {
   "cell_type": "code",
   "execution_count": 15,
   "metadata": {},
   "outputs": [
    {
     "name": "stdout",
     "output_type": "stream",
     "text": [
      "[1, 8, 27, 64, 125, 1, 8, 27, 64, 125]\n"
     ]
    }
   ],
   "source": [
    "cubes = []\n",
    "for x in [1, 2, 3, 4, 5]:\n",
    "    cubes.append(x ** 3) \n",
    "    \n",
    "for x in [1, 2, 3, 4, 5]:\n",
    "    cubes.append(x ** 3) \n",
    "print(cubes)"
   ]
  },
  {
   "cell_type": "code",
   "execution_count": 13,
   "metadata": {},
   "outputs": [
    {
     "name": "stdout",
     "output_type": "stream",
     "text": [
      "[1, 8, 27, 64, 125]\n"
     ]
    }
   ],
   "source": [
    "# with comprehension\n",
    "  \n",
    "cubes= [x**3 for x in [1, 2, 3, 4, 5]]\n",
    "print(cubes)"
   ]
  },
  {
   "cell_type": "code",
   "execution_count": 12,
   "metadata": {},
   "outputs": [
    {
     "name": "stdout",
     "output_type": "stream",
     "text": [
      "[1, 8, 27, 64, 125]\n",
      "[256, 625, 1296, 2401, 4096, 6561, 10000, 14641]\n"
     ]
    }
   ],
   "source": [
    "cubes= [x**3 for x in [1, 2, 3, 4, 5]]\n",
    "print(cubes)\n",
    "\n",
    "cubes = [x**4 for x in [4,5,6,7,8,9,10,11]]\n",
    "print(cubes)"
   ]
  },
  {
   "cell_type": "code",
   "execution_count": 11,
   "metadata": {},
   "outputs": [
    {
     "data": {
      "text/plain": [
       "[1, 2, 3, 4, 5, 6, 7, 8, 9, 10]"
      ]
     },
     "execution_count": 11,
     "metadata": {},
     "output_type": "execute_result"
    }
   ],
   "source": [
    "numbers=[1,2,3,4,5,6,7,8,9,10]\n",
    "list=[x for x in numbers]\n",
    "list"
   ]
  },
  {
   "cell_type": "code",
   "execution_count": 18,
   "metadata": {},
   "outputs": [
    {
     "name": "stdout",
     "output_type": "stream",
     "text": [
      "[1, 2, 3, 4, 5, 6, 7, 8, 9, 10]\n",
      "[1, 2, 3, 4, 5, 6, 7, 8, 9, 10, 11, 12, 13, 14, 15, 16, 17, 18, 19, 20]\n"
     ]
    }
   ],
   "source": [
    "numbers=[1,2,3,4,5,6,7,8,9,10]\n",
    "list=[x for x in numbers]\n",
    "list\n",
    "print(list)\n",
    "list.extend([11,12,13,14,15,16,17,18,19,20])\n",
    "print(list)"
   ]
  },
  {
   "cell_type": "markdown",
   "metadata": {},
   "source": [
    "#### Program 1: Write a python program which does the following\n",
    "- Make a list that includes four job types , such as 'programmer', 'truck driver' and so on\n",
    "- Use the *list.index()* function to find the index of one job type in your list.\n",
    "- Use the *in* function to show that this job type is in your list.\n",
    "- Use the *append()* function to add a new job type to your list.\n",
    "- Use the *insert()* function to add a new job type \"Python Programmer\" at the beginning of the list.\n",
    "- Use a loop to show all the job types in your list."
   ]
  },
  {
   "cell_type": "code",
   "execution_count": 24,
   "metadata": {},
   "outputs": [
    {
     "name": "stdout",
     "output_type": "stream",
     "text": [
      "1\n",
      "True\n",
      "['Programmer', 'Writer', 'Singer', 'Racer', 'Scientist']\n",
      "Python Programmer Programmer Writer Singer Racer Scientist "
     ]
    }
   ],
   "source": [
    "job=[\"Programmer\",\"Writer\",\"Singer\",\"Racer\"]\n",
    "print(job.index(\"Writer\"))\n",
    "print(\"Singer\" in job)\n",
    "job.append(\"Scientist\")\n",
    "print(job)\n",
    "job.insert(0,\"Python Programmer\")\n",
    "for i in job:\n",
    "    print(i , end=\" \")"
   ]
  },
  {
   "cell_type": "markdown",
   "metadata": {},
   "source": [
    "#### Problem 2: Write a python program for following\n",
    "\n",
    "- Make a list that includes the names of five famous people.\n",
    "- Remove each person from the list, one at a time, using the four methods given below:\n",
    "    - Del item from the list by del: del listname[index]\n",
    "    - Remove the item from the list by remove method: listname.remove('itemname')\n",
    "    - Using pop() method, It removes the last item from the list: listname.pop() \n",
    "    - Pop any item from the list by index: listname: listname.pop(index)\n",
    "- Print out a message that there are no famous people left in your list, and print your list to prove that it is empty."
   ]
  },
  {
   "cell_type": "code",
   "execution_count": 30,
   "metadata": {},
   "outputs": [
    {
     "name": "stdout",
     "output_type": "stream",
     "text": [
      "['Albert Einstein', 'Thomas Alva Edison', 'Isaac Newton', 'Sir J.J. Thompson']\n",
      "['Albert Einstein', 'Thomas Alva Edison', 'Isaac Newton']\n",
      "['Albert Einstein', 'Thomas Alva Edison']\n",
      "['Thomas Alva Edison']\n"
     ]
    }
   ],
   "source": [
    "fame=[\"Albert Einstein\",\"Thomas Alva Edison\",\"Isaac Newton\",\"Sir J.J. Thompson\",\"Henry Ford\"]\n",
    "del fame[4]\n",
    "print(fame)\n",
    "fame.remove(\"Sir J.J. Thompson\")\n",
    "print(fame)\n",
    "fame.pop()\n",
    "print(fame)\n",
    "fame.pop(0)\n",
    "print(fame)"
   ]
  },
  {
   "cell_type": "markdown",
   "metadata": {},
   "source": [
    "#### Program 3: Write a python program which does the following\n",
    "\n",
    "- Store the first ten letters of the alphabet in a list.\n",
    "- Use a slice to print out the first three letters of the alphabet.\n",
    "- Use a slice to print out any three letters from the middle of your list.\n",
    "- Use a slice to print out the letters from any point in the middle of your list, to the end.\n"
   ]
  },
  {
   "cell_type": "code",
   "execution_count": 35,
   "metadata": {},
   "outputs": [
    {
     "name": "stdout",
     "output_type": "stream",
     "text": [
      "['a', 'b', 'c']\n",
      "['e', 'f', 'g', 'h']\n",
      "['f', 'g', 'h', 'i', 'j']\n"
     ]
    }
   ],
   "source": [
    "alpha = [\"a\",\"b\",\"c\",\"d\",\"e\",\"f\",\"g\",\"h\",\"i\",\"j\"]\n",
    "print(alpha[0:3])\n",
    "print(alpha[4:8])\n",
    "print(alpha[5:])"
   ]
  },
  {
   "cell_type": "markdown",
   "metadata": {},
   "source": [
    "#### Program 4: Write a python program for following\n",
    "\n",
    "- Your goal in this exercise is to prove that copying a list protects the original list.\n",
    "- Make a list with three people's names in it.\n",
    "- Use a slice to make a copy of the entire list.\n",
    "- Add at least two new names to the new copy of the list.\n",
    "- Make a loop that prints out all of the names in the original list, along with a message that this is the original list.\n",
    "- Make a loop that prints out all of the names in the copied list, along with a message that this is the copied list."
   ]
  },
  {
   "cell_type": "code",
   "execution_count": 9,
   "metadata": {},
   "outputs": [
    {
     "name": "stdout",
     "output_type": "stream",
     "text": [
      "['Sahil Khandelwal ', 'Manohar', 'Mayank Verma']\n",
      "['Sahil Khandelwal ', 'Manohar', 'Mayank Verma', 'Shikhar Pratap Singh', 'Abhishek Garg']\n",
      "Sahil Khandelwal  Manohar Mayank Verma \n",
      "Sahil Khandelwal  Manohar Mayank Verma Shikhar Pratap Singh Abhishek Garg "
     ]
    }
   ],
   "source": [
    "name=[\"Sahil Khandelwal \",\"Manohar\",\"Mayank Verma\"]\n",
    "name1=name[0:len(name)]\n",
    "print(name1)\n",
    "name1.extend([\"Shikhar Pratap Singh\",\"Abhishek Garg\"])\n",
    "print(name1)\n",
    "for i in name:\n",
    "    print(i , end=\" \")\n",
    "print()\n",
    "for i in name1:\n",
    "    print(i,end=\" \")"
   ]
  },
  {
   "cell_type": "markdown",
   "metadata": {},
   "source": [
    "#### Program 5: Write a python program for following\n",
    "\n",
    "- Create a list to store the marks of top 15 students obtained by the students in Python Quiz held on 21/08/2018. Maxmimum marks=15\n",
    "- Print the maximum marks obtained by the student from the list\n",
    "- Print the minimum marks obtained by the student\n",
    "- Find the sum of all the marks\n",
    "- Find the average of the marks\n",
    "- Reverse the original list and display using for loop\n"
   ]
  },
  {
   "cell_type": "code",
   "execution_count": 20,
   "metadata": {},
   "outputs": [
    {
     "name": "stdout",
     "output_type": "stream",
     "text": [
      "15\n",
      "9\n",
      "199.5\n",
      "12.46875\n",
      "[14.5, 14, 15, 9, 9.5, 10, 10.5, 11, 11.5, 12, 12.5, 13, 13.5, 14, 14.5, 15]\n",
      "14.5\n",
      "14\n",
      "15\n",
      "9\n",
      "9.5\n",
      "10\n",
      "10.5\n",
      "11\n",
      "11.5\n",
      "12\n",
      "12.5\n",
      "13\n",
      "13.5\n",
      "14\n",
      "14.5\n",
      "15\n"
     ]
    }
   ],
   "source": [
    "marks = [15,14.5,14,13.5,13,12.5,12,11.5,11,10.5,10,9.5,9,15,14,14.5]\n",
    "print(max(marks))\n",
    "print(min(marks))\n",
    "print(sum(marks))\n",
    "print(sum(marks)/len(marks))\n",
    "marks.reverse()\n",
    "print(marks)\n",
    "for i in marks:\n",
    "    print(i)"
   ]
  },
  {
   "cell_type": "markdown",
   "metadata": {},
   "source": [
    "#### Program 6: Write a program in Python to create a list which contains n integers entered by the user and delete all odd numbers from the list. Example: If initial contents of the list is=[1,2,3,4,5,6,7,8,9,10], the output would be=[2,4,6,8,10]."
   ]
  },
  {
   "cell_type": "code",
   "execution_count": 21,
   "metadata": {},
   "outputs": [
    {
     "name": "stdout",
     "output_type": "stream",
     "text": [
      "Enter the value of n = 10\n",
      "Enter a number = 1\n",
      "Enter a number = 2\n",
      "Enter a number = 3\n",
      "Enter a number = 4\n",
      "Enter a number = 5\n",
      "Enter a number = 6\n",
      "Enter a number = 7\n",
      "Enter a number = 8\n",
      "Enter a number = 9\n",
      "Enter a number = 10\n",
      "[2, 4, 6, 8, 10]\n"
     ]
    }
   ],
   "source": [
    "n=int(input(\"Enter the value of n = \"))\n",
    "a = []\n",
    "for i in range(0,n):\n",
    "    b=int(input(\"Enter a number = \"))\n",
    "    a.append(b)\n",
    "f=[]\n",
    "for i in range(0,n):\n",
    "    if(a[i]%2==0):\n",
    "        f.append(a[i])\n",
    "print(f)"
   ]
  },
  {
   "cell_type": "markdown",
   "metadata": {},
   "source": [
    "## Optional Questions"
   ]
  },
  {
   "cell_type": "markdown",
   "metadata": {},
   "source": [
    "#### Program 7: Write a python program for following.\n",
    "- Create an initial empty list named \"countries\" \n",
    "- Read the names of n countries from the user and add them to country list:\n",
    "- Use for loop to display all the names of the countries from the list and add \"is Great\" after the country name if it is \"India\""
   ]
  },
  {
   "cell_type": "code",
   "execution_count": 6,
   "metadata": {},
   "outputs": [
    {
     "name": "stdout",
     "output_type": "stream",
     "text": [
      "Enter the value of n = 2\n",
      "Enter the name of country = Japan\n",
      "Enter the name of country = India\n",
      "['Japan', 'India is Great']\n"
     ]
    }
   ],
   "source": [
    "countries = []\n",
    "n = int(input(\"Enter the value of n = \"))\n",
    "for i in range(n):\n",
    "    a=input(\"Enter the name of country = \")\n",
    "    countries.append(a)\n",
    "for a in range (n):\n",
    "    if(countries[a]==\"India\"):\n",
    "        countries.pop(a)\n",
    "        countries.insert(a,\"India is Great\")\n",
    "print(countries)"
   ]
  },
  {
   "cell_type": "markdown",
   "metadata": {},
   "source": [
    "### Program 8: Write a program in Python to create a list which contains n integers entered by the user and add 2 to each of the even numbers in the list. Example: If initial contents of the list is=[1,2,3,4,5,6,7,8,9,10], the output would be=[1,4,3,6,5,8,7,10,9,12]"
   ]
  },
  {
   "cell_type": "code",
   "execution_count": 20,
   "metadata": {},
   "outputs": [
    {
     "name": "stdout",
     "output_type": "stream",
     "text": [
      "Enter the value of n = 10\n",
      "Enter a number = 1\n",
      "Enter a number = 2\n",
      "Enter a number = 3\n",
      "Enter a number = 4\n",
      "Enter a number = 5\n",
      "Enter a number = 6\n",
      "Enter a number = 7\n",
      "Enter a number = 8\n",
      "Enter a number = 9\n",
      "Enter a number = 10\n",
      "[1, 4, 3, 6, 5, 8, 7, 10, 9, 12]\n"
     ]
    }
   ],
   "source": [
    "num = []\n",
    "n = int(input(\"Enter the value of n = \"))\n",
    "for i in range(n):\n",
    "    a=int(input(\"Enter a number = \"))\n",
    "    num.append(a)\n",
    "for a in range (n):\n",
    "    z=num[a]\n",
    "    if(num[a]%2==0):\n",
    "        num.pop(a)\n",
    "        num.insert(a,z+2)\n",
    "print(num)"
   ]
  },
  {
   "cell_type": "markdown",
   "metadata": {},
   "source": [
    "### Program 9: Write a Python program to find the list in a list of lists whose sum of elements is the highest.\n",
    "Sample lists: [[1,2,3], [4,5,6], [10,11,12], [7,8,9]]\n",
    "Expected Output: [10, 11, 12]"
   ]
  },
  {
   "cell_type": "code",
   "execution_count": 16,
   "metadata": {},
   "outputs": [
    {
     "name": "stdout",
     "output_type": "stream",
     "text": [
      "[10, 11, 12]\n"
     ]
    }
   ],
   "source": [
    "a=[[1,2,3],[4,5,6],[10,11,12],[7,8,9]]\n",
    "mm=0\n",
    "ind=0\n",
    "t=0\n",
    "for i in a:\n",
    "    ss=0\n",
    "    for j in i:\n",
    "        ss=ss+j\n",
    "    if(ss>mm):\n",
    "        mm=ss\n",
    "        ind=t\n",
    "    t=t+1\n",
    "print(a[ind])"
   ]
  },
  {
   "cell_type": "markdown",
   "metadata": {},
   "source": [
    "#### Program 10: Write a python program which does the following\n",
    "\n",
    "- Make a list of the most important words you have learned in programming so far.\n",
    "- Make a corresponding list of definitions. Fill your list with 'definition'.\n",
    "- Use a for loop to print out each word and its corresponding definition.\n",
    "- Maintain this program until you get to the section on Python's Dictionaries."
   ]
  },
  {
   "cell_type": "code",
   "execution_count": 19,
   "metadata": {},
   "outputs": [
    {
     "name": "stdout",
     "output_type": "stream",
     "text": [
      "print  :-  It is used to give output on screen\n",
      "for and while  :-  These keywords are used for loops\n",
      "global  :-  It is used to define the scope of the variable as global in program\n",
      "if  :-  This is used for applying condition in our program\n",
      "append  :-  append keyword is used to add the element at the end of list\n",
      "len()  :-  It gives the length i.e. number of elements in a list\n"
     ]
    }
   ],
   "source": [
    "# start writing your code after this line\n",
    "imp = [\"print\",\"for and while\",\"global\",\"if\",\"append\",\"len()\"]\n",
    "defi = [\"It is used to give output on screen\",\"These keywords are used for loops\",\"It is used to define the scope of the variable as global in program\",\"This is used for applying condition in our program\",\"append keyword is used to add the element at the end of list\",\"It gives the length i.e. number of elements in a list\"]\n",
    "for i in range(len(imp)):\n",
    "    print(imp[i],\" :- \",defi[i])"
   ]
  }
 ],
 "metadata": {
  "kernelspec": {
   "display_name": "Python 3",
   "language": "python",
   "name": "python3"
  },
  "language_info": {
   "codemirror_mode": {
    "name": "ipython",
    "version": 3
   },
   "file_extension": ".py",
   "mimetype": "text/x-python",
   "name": "python",
   "nbconvert_exporter": "python",
   "pygments_lexer": "ipython3",
   "version": "3.6.5"
  }
 },
 "nbformat": 4,
 "nbformat_minor": 2
}
